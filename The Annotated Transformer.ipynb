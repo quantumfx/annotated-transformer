{
 "cells": [
  {
   "cell_type": "markdown",
   "metadata": {},
   "source": [
    "![Main Figure](images/aiayn.png)"
   ]
  },
  {
   "cell_type": "markdown",
   "metadata": {
    "id": "SX7UC-8jTsp7"
   },
   "source": [
    "\n",
    "The Transformer from [\"Attention is All You\n",
    "Need\"](https://arxiv.org/abs/1706.03762) has been on a lot of\n",
    "people's minds over the last year. Besides producing major\n",
    "improvements in translation quality, it provides a new architecture\n",
    "for many other NLP tasks. The paper itself is very clearly written,\n",
    "but the conventional wisdom has been that it is quite difficult to\n",
    "implement correctly.\n",
    "\n",
    "In this post I present an \"annotated\" version of the paper in the\n",
    "form of a line-by-line implementation. I have reordered and deleted\n",
    "some sections from the original paper and added comments\n",
    "throughout. This document itself is a working notebook, and should\n",
    "be a completely usable implementation. In total there are 400 lines\n",
    "of library code which can process 27,000 tokens per second on 4\n",
    "GPUs.\n",
    "\n",
    "To follow along you will first need to install\n",
    "[PyTorch](http://pytorch.org/). The complete notebook is also\n",
    "available on\n",
    "[github](https://github.com/harvardnlp/annotated-transformer) or on\n",
    "Google\n",
    "[Colab](https://drive.google.com/file/d/1xQXSv6mtAOLXxEMi8RvaW8TW-7bvYBDF/view?usp=sharing).\n",
    "\n",
    "Note this is merely a starting point for researchers and interested\n",
    "developers. The code here is based heavily on our\n",
    "[OpenNMT](http://opennmt.net) packages. (If helpful feel free to\n",
    "[cite](#conclusion).) For other full-sevice implementations of the\n",
    "model check-out\n",
    "[Tensor2Tensor](https://github.com/tensorflow/tensor2tensor)\n",
    "(tensorflow) and [Sockeye](https://github.com/awslabs/sockeye)\n",
    "(mxnet).\n",
    "\n",
    "- Alexander Rush ([@harvardnlp](https://twitter.com/harvardnlp) or\n",
    "- srush@seas.harvard.edu)\n"
   ]
  },
  {
   "cell_type": "markdown",
   "metadata": {
    "id": "BhmOhn9lTsp8"
   },
   "source": [
    "# Prelims"
   ]
  },
  {
   "cell_type": "code",
   "execution_count": null,
   "metadata": {
    "id": "NwClcbH6Tsp8"
   },
   "outputs": [],
   "source": [
    "# !pip install -r requirements.txt"
   ]
  },
  {
   "cell_type": "code",
   "execution_count": null,
   "metadata": {
    "id": "v1-1MX6oTsp9"
   },
   "outputs": [],
   "source": [
    "import torch\n",
    "import torch.nn as nn\n",
    "from torch.nn.functional import log_softmax, pad\n",
    "import math\n",
    "import copy\n",
    "import time\n",
    "from torch.optim.lr_scheduler import LambdaLR\n",
    "import pandas as pd\n",
    "import altair as alt\n",
    "from torchtext.data.functional import to_map_style_dataset\n",
    "from torch.utils.data import DataLoader\n",
    "from torchtext.vocab import build_vocab_from_iterator\n",
    "import torchtext.datasets as datasets\n",
    "import spacy\n",
    "\n",
    "\n",
    "def show_example(fn, args=[]):\n",
    "    return fn(*args)\n",
    "\n",
    "\n",
    "def train_example(fn, args=[]):\n",
    "    fn(*args)"
   ]
  },
  {
   "cell_type": "markdown",
   "metadata": {
    "id": "RSntDwKhTsp-"
   },
   "source": [
    "Table of Contents\n",
    "\n",
    "\n",
    "* Table of Contents\n",
    "{:toc}"
   ]
  },
  {
   "cell_type": "markdown",
   "metadata": {
    "id": "jx49WRyfTsp-"
   },
   "source": [
    "> My comments are blockquoted. The main text is all from the paper itself."
   ]
  },
  {
   "cell_type": "markdown",
   "metadata": {
    "id": "7phVeWghTsp_"
   },
   "source": [
    "# Background"
   ]
  },
  {
   "cell_type": "markdown",
   "metadata": {
    "id": "83ZDS91dTsqA"
   },
   "source": [
    "\n",
    "The goal of reducing sequential computation also forms the\n",
    "foundation of the Extended Neural GPU, ByteNet and ConvS2S, all of\n",
    "which use convolutional neural networks as basic building block,\n",
    "computing hidden representations in parallel for all input and\n",
    "output positions. In these models, the number of operations required\n",
    "to relate signals from two arbitrary input or output positions grows\n",
    "in the distance between positions, linearly for ConvS2S and\n",
    "logarithmically for ByteNet. This makes it more difficult to learn\n",
    "dependencies between distant positions. In the Transformer this is\n",
    "reduced to a constant number of operations, albeit at the cost of\n",
    "reduced effective resolution due to averaging attention-weighted\n",
    "positions, an effect we counteract with Multi-Head Attention.\n",
    "\n",
    "Self-attention, sometimes called intra-attention is an attention\n",
    "mechanism relating different positions of a single sequence in order\n",
    "to compute a representation of the sequence. Self-attention has been\n",
    "used successfully in a variety of tasks including reading\n",
    "comprehension, abstractive summarization, textual entailment and\n",
    "learning task-independent sentence representations. End-to-end\n",
    "memory networks are based on a recurrent attention mechanism instead\n",
    "of sequencealigned recurrence and have been shown to perform well on\n",
    "simple-language question answering and language modeling tasks.\n",
    "\n",
    "To the best of our knowledge, however, the Transformer is the first\n",
    "transduction model relying entirely on self-attention to compute\n",
    "representations of its input and output without using sequence\n",
    "aligned RNNs or convolution."
   ]
  },
  {
   "cell_type": "markdown",
   "metadata": {},
   "source": [
    "# Tutorial 1: Model Architecture"
   ]
  },
  {
   "cell_type": "markdown",
   "metadata": {
    "id": "pFrPajezTsqB"
   },
   "source": [
    "# Model Architecture"
   ]
  },
  {
   "cell_type": "markdown",
   "metadata": {
    "id": "ReuU_h-fTsqB"
   },
   "source": [
    "\n",
    "Most competitive neural sequence transduction models have an\n",
    "encoder-decoder structure\n",
    "[(cite)](https://arxiv.org/abs/1409.0473). Here, the encoder maps an\n",
    "input sequence of symbol representations $(x_1, ..., x_n)$ to a\n",
    "sequence of continuous representations $\\mathbf{z} = (z_1, ...,\n",
    "z_n)$. Given $\\mathbf{z}$, the decoder then generates an output\n",
    "sequence $(y_1,...,y_m)$ of symbols one element at a time. At each\n",
    "step the model is auto-regressive\n",
    "[(cite)](https://arxiv.org/abs/1308.0850), consuming the previously\n",
    "generated symbols as additional input when generating the next."
   ]
  },
  {
   "cell_type": "code",
   "execution_count": null,
   "metadata": {
    "id": "k0XGXhzRTsqB"
   },
   "outputs": [],
   "source": [
    "class EncoderDecoder(nn.Module):\n",
    "    \"\"\"\n",
    "    A standard Encoder-Decoder architecture. Base for this and many\n",
    "    other models.\n",
    "    \"\"\"\n",
    "\n",
    "    def __init__(self, encoder, decoder, src_embed, tgt_embed, generator):\n",
    "        super(EncoderDecoder, self).__init__()\n",
    "        self.encoder = encoder\n",
    "        self.decoder = decoder\n",
    "        self.src_embed = src_embed\n",
    "        self.tgt_embed = tgt_embed\n",
    "        self.generator = generator\n",
    "\n",
    "    def forward(self, src, tgt, src_mask, tgt_mask):\n",
    "        \"Take in and process masked src and target sequences.\"\n",
    "        return self.decode(self.encode(src, src_mask), src_mask, tgt, tgt_mask)\n",
    "\n",
    "    def encode(self, src, src_mask):\n",
    "        return self.encoder(self.src_embed(src), src_mask)\n",
    "\n",
    "    def decode(self, memory, src_mask, tgt, tgt_mask):\n",
    "        return self.decoder(self.tgt_embed(tgt), memory, src_mask, tgt_mask)"
   ]
  },
  {
   "cell_type": "code",
   "execution_count": null,
   "metadata": {
    "id": "NKGoH2RsTsqC",
    "lines_to_next_cell": 2
   },
   "outputs": [],
   "source": [
    "class Generator(nn.Module):\n",
    "    \"Define standard linear + softmax generation step.\"\n",
    "\n",
    "    def __init__(self, d_model, vocab):\n",
    "        super(Generator, self).__init__()\n",
    "        self.proj = nn.Linear(d_model, vocab)\n",
    "\n",
    "    def forward(self, x):\n",
    "        return log_softmax(self.proj(x), dim=-1)"
   ]
  },
  {
   "cell_type": "markdown",
   "metadata": {
    "id": "mOoEnF_jTsqC"
   },
   "source": [
    "\n",
    "The Transformer follows this overall architecture using stacked\n",
    "self-attention and point-wise, fully connected layers for both the\n",
    "encoder and decoder, shown in the left and right halves of Figure 1,\n",
    "respectively."
   ]
  },
  {
   "cell_type": "markdown",
   "metadata": {
    "id": "oredWloYTsqC",
    "lines_to_next_cell": 2
   },
   "source": [
    "![](images/ModalNet-21.png)"
   ]
  },
  {
   "cell_type": "markdown",
   "metadata": {
    "id": "bh092NZBTsqD"
   },
   "source": [
    "## Encoder and Decoder Stacks\n",
    "\n",
    "### Encoder\n",
    "\n",
    "The encoder is composed of a stack of $N=6$ identical layers."
   ]
  },
  {
   "cell_type": "code",
   "execution_count": null,
   "metadata": {
    "id": "2gxTApUYTsqD"
   },
   "outputs": [],
   "source": [
    "def clones(module, N):\n",
    "    \"Produce N identical layers.\"\n",
    "    return nn.ModuleList([copy.deepcopy(module) for _ in range(N)])"
   ]
  },
  {
   "cell_type": "code",
   "execution_count": null,
   "metadata": {
    "id": "xqVTz9MkTsqD"
   },
   "outputs": [],
   "source": [
    "class Encoder(nn.Module):\n",
    "    \"Core encoder is a stack of N layers\"\n",
    "\n",
    "    def __init__(self, layer, N):\n",
    "        super(Encoder, self).__init__()\n",
    "        self.layers = clones(layer, N)\n",
    "        self.norm = LayerNorm(layer.size)\n",
    "\n",
    "    def forward(self, x, mask):\n",
    "        \"Pass the input (and mask) through each layer in turn.\"\n",
    "        for layer in self.layers:\n",
    "            x = layer(x, mask)\n",
    "        return self.norm(x)"
   ]
  },
  {
   "cell_type": "markdown",
   "metadata": {
    "id": "GjAKgjGwTsqD"
   },
   "source": [
    "\n",
    "We employ a residual connection\n",
    "[(cite)](https://arxiv.org/abs/1512.03385) around each of the two\n",
    "sub-layers, followed by layer normalization\n",
    "[(cite)](https://arxiv.org/abs/1607.06450)."
   ]
  },
  {
   "cell_type": "code",
   "execution_count": null,
   "metadata": {
    "id": "3jKa_prZTsqE"
   },
   "outputs": [],
   "source": [
    "class LayerNorm(nn.Module):\n",
    "    \"Construct a layernorm module (See citation for details).\"\n",
    "\n",
    "    def __init__(self, features, eps=1e-6):\n",
    "        super(LayerNorm, self).__init__()\n",
    "        self.a_2 = nn.Parameter(torch.ones(features))\n",
    "        self.b_2 = nn.Parameter(torch.zeros(features))\n",
    "        self.eps = eps\n",
    "\n",
    "    def forward(self, x):\n",
    "        mean = x.mean(-1, keepdim=True)\n",
    "        std = x.std(-1, keepdim=True)\n",
    "        return self.a_2 * (x - mean) / (std + self.eps) + self.b_2"
   ]
  },
  {
   "cell_type": "markdown",
   "metadata": {
    "id": "nXSJ3QYmTsqE"
   },
   "source": [
    "\n",
    "That is, the output of each sub-layer is $\\mathrm{LayerNorm}(x +\n",
    "\\mathrm{Sublayer}(x))$, where $\\mathrm{Sublayer}(x)$ is the function\n",
    "implemented by the sub-layer itself.  We apply dropout\n",
    "[(cite)](http://jmlr.org/papers/v15/srivastava14a.html) to the\n",
    "output of each sub-layer, before it is added to the sub-layer input\n",
    "and normalized.\n",
    "\n",
    "To facilitate these residual connections, all sub-layers in the\n",
    "model, as well as the embedding layers, produce outputs of dimension\n",
    "$d_{\\text{model}}=512$."
   ]
  },
  {
   "cell_type": "code",
   "execution_count": null,
   "metadata": {
    "id": "U1P7zI0eTsqE"
   },
   "outputs": [],
   "source": [
    "class SublayerConnection(nn.Module):\n",
    "    \"\"\"\n",
    "    A residual connection followed by a layer norm.\n",
    "    Note for code simplicity the norm is first as opposed to last.\n",
    "    \"\"\"\n",
    "\n",
    "    def __init__(self, size, dropout):\n",
    "        super(SublayerConnection, self).__init__()\n",
    "        self.norm = LayerNorm(size)\n",
    "        self.dropout = nn.Dropout(dropout)\n",
    "\n",
    "    def forward(self, x, sublayer):\n",
    "        \"Apply residual connection to any sublayer with the same size.\"\n",
    "        return x + self.dropout(sublayer(self.norm(x)))"
   ]
  },
  {
   "cell_type": "markdown",
   "metadata": {
    "id": "ML6oDlEqTsqE"
   },
   "source": [
    "\n",
    "Each layer has two sub-layers. The first is a multi-head\n",
    "self-attention mechanism, and the second is a simple, position-wise\n",
    "fully connected feed-forward network."
   ]
  },
  {
   "cell_type": "code",
   "execution_count": null,
   "metadata": {
    "id": "qYkUFr6GTsqE"
   },
   "outputs": [],
   "source": [
    "class EncoderLayer(nn.Module):\n",
    "    \"Encoder is made up of self-attn and feed forward (defined below)\"\n",
    "\n",
    "    def __init__(self, size, self_attn, feed_forward, dropout):\n",
    "        super(EncoderLayer, self).__init__()\n",
    "        self.self_attn = self_attn\n",
    "        self.feed_forward = feed_forward\n",
    "        self.sublayer = clones(SublayerConnection(size, dropout), 2)\n",
    "        self.size = size\n",
    "\n",
    "    def forward(self, x, mask):\n",
    "        \"Follow Figure 1 (left) for connections.\"\n",
    "        x = self.sublayer[0](x, lambda x: self.self_attn(x, x, x, mask))\n",
    "        return self.sublayer[1](x, self.feed_forward)"
   ]
  },
  {
   "cell_type": "markdown",
   "metadata": {
    "id": "7ecOQIhkTsqF"
   },
   "source": [
    "### Decoder\n",
    "\n",
    "The decoder is also composed of a stack of $N=6$ identical layers.\n"
   ]
  },
  {
   "cell_type": "code",
   "execution_count": null,
   "metadata": {
    "id": "YE2KBGZETsqF"
   },
   "outputs": [],
   "source": [
    "class Decoder(nn.Module):\n",
    "    \"Generic N layer decoder with masking.\"\n",
    "\n",
    "    def __init__(self, layer, N):\n",
    "        super(Decoder, self).__init__()\n",
    "        self.layers = clones(layer, N)\n",
    "        self.norm = LayerNorm(layer.size)\n",
    "\n",
    "    def forward(self, x, memory, src_mask, tgt_mask):\n",
    "        for layer in self.layers:\n",
    "            x = layer(x, memory, src_mask, tgt_mask)\n",
    "        return self.norm(x)"
   ]
  },
  {
   "cell_type": "markdown",
   "metadata": {
    "id": "dXlCB12pTsqF"
   },
   "source": [
    "\n",
    "In addition to the two sub-layers in each encoder layer, the decoder\n",
    "inserts a third sub-layer, which performs multi-head attention over\n",
    "the output of the encoder stack.  Similar to the encoder, we employ\n",
    "residual connections around each of the sub-layers, followed by\n",
    "layer normalization."
   ]
  },
  {
   "cell_type": "code",
   "execution_count": null,
   "metadata": {
    "id": "M2hA1xFQTsqF"
   },
   "outputs": [],
   "source": [
    "class DecoderLayer(nn.Module):\n",
    "    \"Decoder is made of self-attn, src-attn, and feed forward (defined below)\"\n",
    "\n",
    "    def __init__(self, size, self_attn, src_attn, feed_forward, dropout):\n",
    "        super(DecoderLayer, self).__init__()\n",
    "        self.size = size\n",
    "        self.self_attn = self_attn\n",
    "        self.src_attn = src_attn\n",
    "        self.feed_forward = feed_forward\n",
    "        self.sublayer = clones(SublayerConnection(size, dropout), 3)\n",
    "\n",
    "    def forward(self, x, memory, src_mask, tgt_mask):\n",
    "        \"Follow Figure 1 (right) for connections.\"\n",
    "        m = memory\n",
    "        x = self.sublayer[0](x, lambda x: self.self_attn(x, x, x, tgt_mask))\n",
    "        x = self.sublayer[1](x, lambda x: self.src_attn(x, m, m, src_mask))\n",
    "        return self.sublayer[2](x, self.feed_forward)"
   ]
  },
  {
   "cell_type": "markdown",
   "metadata": {
    "id": "FZz5rLl4TsqF"
   },
   "source": [
    "\n",
    "We also modify the self-attention sub-layer in the decoder stack to\n",
    "prevent positions from attending to subsequent positions.  This\n",
    "masking, combined with fact that the output embeddings are offset by\n",
    "one position, ensures that the predictions for position $i$ can\n",
    "depend only on the known outputs at positions less than $i$."
   ]
  },
  {
   "cell_type": "code",
   "execution_count": null,
   "metadata": {
    "id": "QN98O2l3TsqF"
   },
   "outputs": [],
   "source": [
    "def subsequent_mask(size):\n",
    "    \"Mask out subsequent positions.\"\n",
    "    attn_shape = (1, size, size)\n",
    "    subsequent_mask = torch.triu(torch.ones(attn_shape), diagonal=1).type(\n",
    "        torch.uint8\n",
    "    )\n",
    "    return subsequent_mask == 0"
   ]
  },
  {
   "cell_type": "markdown",
   "metadata": {
    "id": "Vg_f_w-PTsqG"
   },
   "source": [
    "\n",
    "> Below the attention mask shows the position each tgt word (row) is\n",
    "> allowed to look at (column). Words are blocked for attending to\n",
    "> future words during training."
   ]
  },
  {
   "cell_type": "code",
   "execution_count": null,
   "metadata": {
    "id": "ht_FtgYAokC4"
   },
   "outputs": [],
   "source": [
    "def example_mask():\n",
    "    LS_data = pd.concat(\n",
    "        [\n",
    "            pd.DataFrame(\n",
    "                {\n",
    "                    \"Subsequent Mask\": subsequent_mask(20)[0][x, y].flatten(),\n",
    "                    \"Window\": y,\n",
    "                    \"Masking\": x,\n",
    "                }\n",
    "            )\n",
    "            for y in range(20)\n",
    "            for x in range(20)\n",
    "        ]\n",
    "    )\n",
    "\n",
    "    return alt.Chart(LS_data).mark_rect().properties(height=250, width=250).encode(\n",
    "        alt.X(\"Window:O\"),\n",
    "        alt.Y(\"Masking:O\"),\n",
    "        alt.Color(\"Subsequent Mask:Q\", scale=alt.Scale(scheme=\"viridis\")),\n",
    "    )\n",
    "\n",
    "show_example(example_mask)"
   ]
  },
  {
   "cell_type": "markdown",
   "metadata": {
    "id": "Qto_yg7BTsqG"
   },
   "source": [
    "### Attention\n",
    "\n",
    "An attention function can be described as mapping a query and a set\n",
    "of key-value pairs to an output, where the query, keys, values, and\n",
    "output are all vectors.  The output is computed as a weighted sum of\n",
    "the values, where the weight assigned to each value is computed by a\n",
    "compatibility function of the query with the corresponding key.\n",
    "\n",
    "We call our particular attention \"Scaled Dot-Product Attention\".\n",
    "The input consists of queries and keys of dimension $d_k$, and\n",
    "values of dimension $d_v$.  We compute the dot products of the query\n",
    "with all keys, divide each by $\\sqrt{d_k}$, and apply a softmax\n",
    "function to obtain the weights on the values.\n"
   ]
  },
  {
   "cell_type": "markdown",
   "metadata": {
    "lines_to_next_cell": 2
   },
   "source": [
    "![](images/ModalNet-19.png)"
   ]
  },
  {
   "cell_type": "markdown",
   "metadata": {
    "id": "EYJLWk6cTsqG"
   },
   "source": [
    "\n",
    "In practice, we compute the attention function on a set of queries\n",
    "simultaneously, packed together into a matrix $Q$.  The keys and\n",
    "values are also packed together into matrices $K$ and $V$.  We\n",
    "compute the matrix of outputs as:\n",
    "\n",
    "$$\n",
    "   \\mathrm{Attention}(Q, K, V) = \\mathrm{softmax}(\\frac{QK^T}{\\sqrt{d_k}})V\n",
    "$$"
   ]
  },
  {
   "cell_type": "code",
   "execution_count": null,
   "metadata": {
    "id": "qsoVxS5yTsqG",
    "lines_to_next_cell": 2
   },
   "outputs": [],
   "source": [
    "def attention(query, key, value, mask=None, dropout=None):\n",
    "    \"Compute 'Scaled Dot Product Attention'\"\n",
    "    d_k = query.size(-1)\n",
    "    scores = torch.matmul(query, key.transpose(-2, -1)) / math.sqrt(d_k)\n",
    "    if mask is not None:\n",
    "        scores = scores.masked_fill(mask == 0, -1e9)\n",
    "    p_attn = scores.softmax(dim=-1)\n",
    "    if dropout is not None:\n",
    "        p_attn = dropout(p_attn)\n",
    "    return torch.matmul(p_attn, value), p_attn"
   ]
  },
  {
   "cell_type": "markdown",
   "metadata": {
    "id": "jUkpwu8kTsqG"
   },
   "source": [
    "\n",
    "The two most commonly used attention functions are additive\n",
    "attention [(cite)](https://arxiv.org/abs/1409.0473), and dot-product\n",
    "(multiplicative) attention.  Dot-product attention is identical to\n",
    "our algorithm, except for the scaling factor of\n",
    "$\\frac{1}{\\sqrt{d_k}}$. Additive attention computes the\n",
    "compatibility function using a feed-forward network with a single\n",
    "hidden layer.  While the two are similar in theoretical complexity,\n",
    "dot-product attention is much faster and more space-efficient in\n",
    "practice, since it can be implemented using highly optimized matrix\n",
    "multiplication code.\n",
    "\n",
    "\n",
    "While for small values of $d_k$ the two mechanisms perform\n",
    "similarly, additive attention outperforms dot product attention\n",
    "without scaling for larger values of $d_k$\n",
    "[(cite)](https://arxiv.org/abs/1703.03906). We suspect that for\n",
    "large values of $d_k$, the dot products grow large in magnitude,\n",
    "pushing the softmax function into regions where it has extremely\n",
    "small gradients (To illustrate why the dot products get large,\n",
    "assume that the components of $q$ and $k$ are independent random\n",
    "variables with mean $0$ and variance $1$.  Then their dot product,\n",
    "$q \\cdot k = \\sum_{i=1}^{d_k} q_ik_i$, has mean $0$ and variance\n",
    "$d_k$.). To counteract this effect, we scale the dot products by\n",
    "$\\frac{1}{\\sqrt{d_k}}$.  %% [markdown] id=\"xBebydBcTsqG\"\n",
    "\n"
   ]
  },
  {
   "cell_type": "markdown",
   "metadata": {
    "id": "bS1FszhVTsqG",
    "lines_to_next_cell": 2
   },
   "source": [
    "![](images/ModalNet-20.png)"
   ]
  },
  {
   "cell_type": "markdown",
   "metadata": {
    "id": "TNtVyZ-pTsqH"
   },
   "source": [
    "\n",
    "Multi-head attention allows the model to jointly attend to\n",
    "information from different representation subspaces at different\n",
    "positions. With a single attention head, averaging inhibits this.\n",
    "\n",
    "$$\n",
    "\\mathrm{MultiHead}(Q, K, V) =\n",
    "    \\mathrm{Concat}(\\mathrm{head_1}, ..., \\mathrm{head_h})W^O \\\\\n",
    "    \\text{where}~\\mathrm{head_i} = \\mathrm{Attention}(QW^Q_i, KW^K_i, VW^V_i)\n",
    "$$\n",
    "\n",
    "Where the projections are parameter matrices $W^Q_i \\in\n",
    "\\mathbb{R}^{d_{\\text{model}} \\times d_k}$, $W^K_i \\in\n",
    "\\mathbb{R}^{d_{\\text{model}} \\times d_k}$, $W^V_i \\in\n",
    "\\mathbb{R}^{d_{\\text{model}} \\times d_v}$ and $W^O \\in\n",
    "\\mathbb{R}^{hd_v \\times d_{\\text{model}}}$.\n",
    "\n",
    "In this work we employ $h=8$ parallel attention layers, or\n",
    "heads. For each of these we use $d_k=d_v=d_{\\text{model}}/h=64$. Due\n",
    "to the reduced dimension of each head, the total computational cost\n",
    "is similar to that of single-head attention with full\n",
    "dimensionality."
   ]
  },
  {
   "cell_type": "code",
   "execution_count": null,
   "metadata": {
    "id": "D2LBMKCQTsqH"
   },
   "outputs": [],
   "source": [
    "class MultiHeadedAttention(nn.Module):\n",
    "    def __init__(self, h, d_model, dropout=0.1):\n",
    "        \"Take in model size and number of heads.\"\n",
    "        super(MultiHeadedAttention, self).__init__()\n",
    "        assert d_model % h == 0\n",
    "        # We assume d_v always equals d_k\n",
    "        self.d_k = d_model // h\n",
    "        self.h = h\n",
    "        self.linears = clones(nn.Linear(d_model, d_model), 4)\n",
    "        self.attn = None\n",
    "        self.dropout = nn.Dropout(p=dropout)\n",
    "\n",
    "    def forward(self, query, key, value, mask=None):\n",
    "        \"Implements Figure 2\"\n",
    "        if mask is not None:\n",
    "            # Same mask applied to all h heads.\n",
    "            mask = mask.unsqueeze(1)\n",
    "        nbatches = query.size(0)\n",
    "\n",
    "        # 1) Do all the linear projections in batch from d_model => h x d_k\n",
    "        query, key, value = [\n",
    "            lin(x).view(nbatches, -1, self.h, self.d_k).transpose(1, 2)\n",
    "            for lin, x in zip(self.linears, (query, key, value))\n",
    "        ]\n",
    "\n",
    "        # 2) Apply attention on all the projected vectors in batch.\n",
    "        x, self.attn = attention(\n",
    "            query, key, value, mask=mask, dropout=self.dropout\n",
    "        )\n",
    "\n",
    "        # 3) \"Concat\" using a view and apply a final linear.\n",
    "        x = (\n",
    "            x.transpose(1, 2)\n",
    "            .contiguous()\n",
    "            .view(nbatches, -1, self.h * self.d_k)\n",
    "        )\n",
    "        return self.linears[-1](x)"
   ]
  },
  {
   "cell_type": "markdown",
   "metadata": {
    "id": "EDRba3J3TsqH"
   },
   "source": [
    "### Applications of Attention in our Model\n",
    "\n",
    "The Transformer uses multi-head attention in three different ways:\n",
    "1) In \"encoder-decoder attention\" layers, the queries come from the\n",
    "previous decoder layer, and the memory keys and values come from the\n",
    "output of the encoder.  This allows every position in the decoder to\n",
    "attend over all positions in the input sequence.  This mimics the\n",
    "typical encoder-decoder attention mechanisms in sequence-to-sequence\n",
    "models such as [(cite)](https://arxiv.org/abs/1609.08144).\n",
    "\n",
    "\n",
    "2) The encoder contains self-attention layers.  In a self-attention\n",
    "layer all of the keys, values and queries come from the same place,\n",
    "in this case, the output of the previous layer in the encoder.  Each\n",
    "position in the encoder can attend to all positions in the previous\n",
    "layer of the encoder.\n",
    "\n",
    "\n",
    "3) Similarly, self-attention layers in the decoder allow each\n",
    "position in the decoder to attend to all positions in the decoder up\n",
    "to and including that position.  We need to prevent leftward\n",
    "information flow in the decoder to preserve the auto-regressive\n",
    "property.  We implement this inside of scaled dot-product attention\n",
    "by masking out (setting to $-\\infty$) all values in the input of the\n",
    "softmax which correspond to illegal connections."
   ]
  },
  {
   "cell_type": "markdown",
   "metadata": {
    "id": "M-en97_GTsqH"
   },
   "source": [
    "## Position-wise Feed-Forward Networks\n",
    "\n",
    "In addition to attention sub-layers, each of the layers in our\n",
    "encoder and decoder contains a fully connected feed-forward network,\n",
    "which is applied to each position separately and identically.  This\n",
    "consists of two linear transformations with a ReLU activation in\n",
    "between.\n",
    "\n",
    "$$\\mathrm{FFN}(x)=\\max(0, xW_1 + b_1) W_2 + b_2$$\n",
    "\n",
    "While the linear transformations are the same across different\n",
    "positions, they use different parameters from layer to\n",
    "layer. Another way of describing this is as two convolutions with\n",
    "kernel size 1.  The dimensionality of input and output is\n",
    "$d_{\\text{model}}=512$, and the inner-layer has dimensionality\n",
    "$d_{ff}=2048$."
   ]
  },
  {
   "cell_type": "code",
   "execution_count": null,
   "metadata": {
    "id": "6HHCemCxTsqH"
   },
   "outputs": [],
   "source": [
    "class PositionwiseFeedForward(nn.Module):\n",
    "    \"Implements FFN equation.\"\n",
    "\n",
    "    def __init__(self, d_model, d_ff, dropout=0.1):\n",
    "        super(PositionwiseFeedForward, self).__init__()\n",
    "        self.w_1 = nn.Linear(d_model, d_ff)\n",
    "        self.w_2 = nn.Linear(d_ff, d_model)\n",
    "        self.dropout = nn.Dropout(dropout)\n",
    "\n",
    "    def forward(self, x):\n",
    "        return self.w_2(self.dropout(self.w_1(x).relu()))"
   ]
  },
  {
   "cell_type": "markdown",
   "metadata": {
    "id": "dR1YM520TsqH"
   },
   "source": [
    "## Embeddings and Softmax\n",
    "\n",
    "Similarly to other sequence transduction models, we use learned\n",
    "embeddings to convert the input tokens and output tokens to vectors\n",
    "of dimension $d_{\\text{model}}$.  We also use the usual learned\n",
    "linear transformation and softmax function to convert the decoder\n",
    "output to predicted next-token probabilities.  In our model, we\n",
    "share the same weight matrix between the two embedding layers and\n",
    "the pre-softmax linear transformation, similar to\n",
    "[(cite)](https://arxiv.org/abs/1608.05859). In the embedding layers,\n",
    "we multiply those weights by $\\sqrt{d_{\\text{model}}}$."
   ]
  },
  {
   "cell_type": "code",
   "execution_count": null,
   "metadata": {
    "id": "pyrChq9qTsqH"
   },
   "outputs": [],
   "source": [
    "class Embeddings(nn.Module):\n",
    "    def __init__(self, d_model, vocab):\n",
    "        super(Embeddings, self).__init__()\n",
    "        self.lut = nn.Embedding(vocab, d_model)\n",
    "        self.d_model = d_model\n",
    "\n",
    "    def forward(self, x):\n",
    "        return self.lut(x) * math.sqrt(self.d_model)"
   ]
  },
  {
   "cell_type": "markdown",
   "metadata": {
    "id": "vOkdui-cTsqH"
   },
   "source": [
    "## Positional Encoding\n",
    "\n",
    "Since our model contains no recurrence and no convolution, in order\n",
    "for the model to make use of the order of the sequence, we must\n",
    "inject some information about the relative or absolute position of\n",
    "the tokens in the sequence.  To this end, we add \"positional\n",
    "encodings\" to the input embeddings at the bottoms of the encoder and\n",
    "decoder stacks.  The positional encodings have the same dimension\n",
    "$d_{\\text{model}}$ as the embeddings, so that the two can be summed.\n",
    "There are many choices of positional encodings, learned and fixed\n",
    "[(cite)](https://arxiv.org/pdf/1705.03122.pdf).\n",
    "\n",
    "In this work, we use sine and cosine functions of different frequencies:\n",
    "\n",
    "$$PE_{(pos,2i)} = sin(pos / 10000^{2i/d_{\\text{model}}})$$\n",
    "\n",
    "$$PE_{(pos,2i+1)} = cos(pos / 10000^{2i/d_{\\text{model}}})$$\n",
    "\n",
    "where $pos$ is the position and $i$ is the dimension.  That is, each\n",
    "dimension of the positional encoding corresponds to a sinusoid.  The\n",
    "wavelengths form a geometric progression from $2\\pi$ to $10000 \\cdot\n",
    "2\\pi$.  We chose this function because we hypothesized it would\n",
    "allow the model to easily learn to attend by relative positions,\n",
    "since for any fixed offset $k$, $PE_{pos+k}$ can be represented as a\n",
    "linear function of $PE_{pos}$.\n",
    "\n",
    "In addition, we apply dropout to the sums of the embeddings and the\n",
    "positional encodings in both the encoder and decoder stacks.  For\n",
    "the base model, we use a rate of $P_{drop}=0.1$.\n",
    "\n"
   ]
  },
  {
   "cell_type": "code",
   "execution_count": null,
   "metadata": {
    "id": "zaHGD4yJTsqH"
   },
   "outputs": [],
   "source": [
    "class PositionalEncoding(nn.Module):\n",
    "    \"Implement the PE function.\"\n",
    "\n",
    "    def __init__(self, d_model, dropout, max_len=5000):\n",
    "        super(PositionalEncoding, self).__init__()\n",
    "        self.dropout = nn.Dropout(p=dropout)\n",
    "\n",
    "        # Compute the positional encodings once in log space.\n",
    "        pe = torch.zeros(max_len, d_model)\n",
    "        position = torch.arange(0, max_len).unsqueeze(1)\n",
    "        div_term = torch.exp(\n",
    "            torch.arange(0, d_model, 2) * -(math.log(10000.0) / d_model)\n",
    "        )\n",
    "        pe[:, 0::2] = torch.sin(position * div_term)\n",
    "        pe[:, 1::2] = torch.cos(position * div_term)\n",
    "        pe = pe.unsqueeze(0)\n",
    "        self.register_buffer(\"pe\", pe)\n",
    "\n",
    "    def forward(self, x):\n",
    "        x = x + self.pe[:, : x.size(1)].requires_grad_(False)\n",
    "        return self.dropout(x)"
   ]
  },
  {
   "cell_type": "markdown",
   "metadata": {
    "id": "EfHacTJLTsqH"
   },
   "source": [
    "\n",
    "> Below the positional encoding will add in a sine wave based on\n",
    "> position. The frequency and offset of the wave is different for\n",
    "> each dimension."
   ]
  },
  {
   "cell_type": "code",
   "execution_count": null,
   "metadata": {
    "id": "rnvHk_1QokC6",
    "type": "example"
   },
   "outputs": [],
   "source": [
    "def example_positional():\n",
    "    pe = PositionalEncoding(20, 0)\n",
    "    y = pe.forward(torch.zeros(1, 100, 20))\n",
    "\n",
    "    data = pd.concat(\n",
    "        [\n",
    "            pd.DataFrame(\n",
    "                {\n",
    "                    \"embedding\": y[0, :, dim],\n",
    "                    \"dim\": dim,\n",
    "                    \"position\": list(range(100)),\n",
    "                }\n",
    "            )\n",
    "            for dim in [4, 5, 6, 7]\n",
    "        ]\n",
    "    )\n",
    "\n",
    "    return (\n",
    "        alt.Chart(data)\n",
    "        .mark_line()\n",
    "        .properties(width=600)\n",
    "        .encode(x=\"position\", y=\"embedding\", color=\"dim:N\")\n",
    "    )\n",
    "\n",
    "\n",
    "show_example(example_positional)"
   ]
  },
  {
   "cell_type": "markdown",
   "metadata": {
    "id": "g8rZNCrzTsqI"
   },
   "source": [
    "\n",
    "We also experimented with using learned positional embeddings\n",
    "[(cite)](https://arxiv.org/pdf/1705.03122.pdf) instead, and found\n",
    "that the two versions produced nearly identical results.  We chose\n",
    "the sinusoidal version because it may allow the model to extrapolate\n",
    "to sequence lengths longer than the ones encountered during\n",
    "training."
   ]
  },
  {
   "cell_type": "markdown",
   "metadata": {
    "id": "iwNKCzlyTsqI"
   },
   "source": [
    "## Full Model\n",
    "\n",
    "> Here we define a function from hyperparameters to a full model."
   ]
  },
  {
   "cell_type": "code",
   "execution_count": null,
   "metadata": {
    "id": "mPe1ES0UTsqI"
   },
   "outputs": [],
   "source": [
    "def make_model(\n",
    "    src_vocab, tgt_vocab, N=6, d_model=512, d_ff=2048, h=8, dropout=0.1\n",
    "):\n",
    "    \"Helper: Construct a model from hyperparameters.\"\n",
    "    c = copy.deepcopy\n",
    "    attn = MultiHeadedAttention(h, d_model)\n",
    "    ff = PositionwiseFeedForward(d_model, d_ff, dropout)\n",
    "    position = PositionalEncoding(d_model, dropout)\n",
    "    model = EncoderDecoder(\n",
    "        Encoder(EncoderLayer(d_model, c(attn), c(ff), dropout), N),\n",
    "        Decoder(DecoderLayer(d_model, c(attn), c(attn), c(ff), dropout), N),\n",
    "        nn.Sequential(Embeddings(d_model, src_vocab), c(position)),\n",
    "        nn.Sequential(Embeddings(d_model, tgt_vocab), c(position)),\n",
    "        Generator(d_model, tgt_vocab),\n",
    "    )\n",
    "\n",
    "    # This was important from their code.\n",
    "    # Initialize parameters with Glorot / fan_avg.\n",
    "    for p in model.parameters():\n",
    "        if p.dim() > 1:\n",
    "            nn.init.xavier_uniform_(p)\n",
    "    return model"
   ]
  },
  {
   "cell_type": "code",
   "execution_count": null,
   "metadata": {
    "id": "azdUh766TsqI"
   },
   "outputs": [],
   "source": [
    "# Small example model.\n",
    "tmp_model = make_model(11, 11, 2)"
   ]
  },
  {
   "cell_type": "markdown",
   "metadata": {},
   "source": [
    "## Inference:\n",
    "\n",
    "> Here we make a forward step to generate a prediction of the\n",
    "model. We try to use our transformer to memorize the input. As you\n",
    "will see the output is randomly generated due to the fact that the\n",
    "model is not trained yet. In the next tutorial we will build the\n",
    "training function and try to train our model to memorize the numbers\n",
    "from 1 to 10."
   ]
  },
  {
   "cell_type": "code",
   "execution_count": null,
   "metadata": {},
   "outputs": [],
   "source": [
    "tmp_model.eval()\n",
    "src = torch.LongTensor([[1, 2, 3, 4, 5, 6, 7, 8, 9, 10]])\n",
    "src_mask = torch.ones(1, 1, 10)\n",
    "\n",
    "memory = tmp_model.encode(src, src_mask)\n",
    "ys = torch.ones(1, 1).fill_(1).type_as(src)\n",
    "\n",
    "for i in range(10 - 1):\n",
    "    out = tmp_model.decode(\n",
    "        memory, src_mask, ys, subsequent_mask(ys.size(1)).type_as(src.data)\n",
    "    )\n",
    "    prob = tmp_model.generator(out[:, -1])\n",
    "    _, next_word = torch.max(prob, dim=1)\n",
    "    next_word = next_word.data[0]\n",
    "    ys = torch.cat(\n",
    "        [ys, torch.ones(1, 1).type_as(src.data).fill_(next_word)], dim=1\n",
    "    )\n",
    "\n",
    "print(\"Untrained Model Prediction\", ys)"
   ]
  },
  {
   "cell_type": "markdown",
   "metadata": {},
   "source": [
    "# Tutorial 2: Training"
   ]
  },
  {
   "cell_type": "markdown",
   "metadata": {
    "id": "05s6oT9fTsqI"
   },
   "source": [
    "# Training\n",
    "\n",
    "This section describes the training regime for our models."
   ]
  },
  {
   "cell_type": "markdown",
   "metadata": {
    "id": "fTxlofs4TsqI"
   },
   "source": [
    "\n",
    "> We stop for a quick interlude to introduce some of the tools\n",
    "> needed to train a standard encoder decoder model. First we define a\n",
    "> batch object that holds the src and target sentences for training,\n",
    "> as well as constructing the masks."
   ]
  },
  {
   "cell_type": "markdown",
   "metadata": {
    "id": "G7SkCenXTsqI"
   },
   "source": [
    "## Batches and Masking"
   ]
  },
  {
   "cell_type": "code",
   "execution_count": null,
   "metadata": {
    "id": "OJ4VDeQkTsqI"
   },
   "outputs": [],
   "source": [
    "class Batch:\n",
    "    \"Object for holding a batch of data with mask during training.\"\n",
    "\n",
    "    def __init__(self, src, tgt=None, pad=0):\n",
    "        self.src = src\n",
    "        self.src_mask = (src != pad).unsqueeze(-2)\n",
    "        if tgt is not None:\n",
    "            self.tgt = tgt[:, :-1]\n",
    "            self.tgt_y = tgt[:, 1:]\n",
    "            self.tgt_mask = self.make_std_mask(self.tgt, pad)\n",
    "            self.ntokens = (self.tgt_y != pad).data.sum()\n",
    "\n",
    "    @staticmethod\n",
    "    def make_std_mask(tgt, pad):\n",
    "        \"Create a mask to hide padding and future words.\"\n",
    "        tgt_mask = (tgt != pad).unsqueeze(-2)\n",
    "        tgt_mask = tgt_mask & subsequent_mask(tgt.size(-1)).type_as(\n",
    "            tgt_mask.data\n",
    "        )\n",
    "        return tgt_mask"
   ]
  },
  {
   "cell_type": "markdown",
   "metadata": {
    "id": "cKkw5GjLTsqI"
   },
   "source": [
    "\n",
    "> Next we create a generic training and scoring function to keep\n",
    "> track of loss. We pass in a generic loss compute function that\n",
    "> also handles parameter updates."
   ]
  },
  {
   "cell_type": "markdown",
   "metadata": {
    "id": "Q8zzeUc0TsqJ"
   },
   "source": [
    "## Training Loop"
   ]
  },
  {
   "cell_type": "code",
   "execution_count": null,
   "metadata": {
    "id": "2HAZD3hiTsqJ"
   },
   "outputs": [],
   "source": [
    "def run_epoch(data_iter, model, loss_compute):\n",
    "    \"Standard Training and Logging Function\"\n",
    "    start = time.time()\n",
    "    total_tokens = 0\n",
    "    total_loss = 0\n",
    "    tokens = 0\n",
    "    for i, batch in enumerate(data_iter):\n",
    "        out = model.forward(\n",
    "            batch.src, batch.tgt, batch.src_mask, batch.tgt_mask\n",
    "        )\n",
    "        loss = loss_compute(out, batch.tgt_y, batch.ntokens)\n",
    "        total_loss += loss\n",
    "        total_tokens += batch.ntokens\n",
    "        tokens += batch.ntokens\n",
    "        if i % 50 == 1:\n",
    "            elapsed = time.time() - start\n",
    "            print(\n",
    "                \"Epoch Step: %d Loss: %f Tokens per Sec: %f\"\n",
    "                % (i, loss / batch.ntokens, tokens / elapsed)\n",
    "            )\n",
    "            start = time.time()\n",
    "            tokens = 0\n",
    "    return total_loss / total_tokens"
   ]
  },
  {
   "cell_type": "markdown",
   "metadata": {
    "id": "aB1IF0foTsqJ"
   },
   "source": [
    "## Training Data and Batching\n",
    "\n",
    "We trained on the standard WMT 2014 English-German dataset\n",
    "consisting of about 4.5 million sentence pairs.  Sentences were\n",
    "encoded using byte-pair encoding, which has a shared source-target\n",
    "vocabulary of about 37000 tokens. For English-French, we used the\n",
    "significantly larger WMT 2014 English-French dataset consisting of\n",
    "36M sentences and split tokens into a 32000 word-piece vocabulary.\n",
    "\n",
    "\n",
    "Sentence pairs were batched together by approximate sequence length.\n",
    "Each training batch contained a set of sentence pairs containing\n",
    "approximately 25000 source tokens and 25000 target tokens."
   ]
  },
  {
   "cell_type": "markdown",
   "metadata": {
    "id": "J0w5i6oHTsqJ"
   },
   "source": [
    "\n",
    "> We will use torch text for batching. This is discussed in more\n",
    "> detail below. Here we create batches in a torchtext function that\n",
    "> ensures our batch size padded to the maximum batchsize does not\n",
    "> surpass a threshold (25000 if we have 8 gpus)."
   ]
  },
  {
   "cell_type": "code",
   "execution_count": null,
   "metadata": {
    "id": "AdVWZ0Q2okC7"
   },
   "outputs": [],
   "source": [
    "global max_src_in_batch, max_tgt_in_batch\n",
    "\n",
    "\n",
    "def batch_size_fn(new, count, sofar):\n",
    "\n",
    "    \"Keep augmenting batch and calculate total number of tokens + padding.\"\n",
    "\n",
    "    global max_src_in_batch, max_tgt_in_batch\n",
    "    if count == 1:\n",
    "        max_src_in_batch = 0\n",
    "        max_tgt_in_batch = 0\n",
    "    max_src_in_batch = max(max_src_in_batch, len(new[0]))\n",
    "    max_tgt_in_batch = max(max_tgt_in_batch, len(new[1]) + 2)\n",
    "    src_elements = count * max_src_in_batch\n",
    "    tgt_elements = count * max_tgt_in_batch\n",
    "    return max(src_elements, tgt_elements)"
   ]
  },
  {
   "cell_type": "markdown",
   "metadata": {
    "incorrectly_encoded_metadata": "id=\"F1mTQatiTsqJ\" jp-MarkdownHeadingCollapsed=true",
    "tags": []
   },
   "source": [
    "## Hardware and Schedule\n",
    "\n",
    "We trained our models on one machine with 8 NVIDIA P100 GPUs.  For\n",
    "our base models using the hyperparameters described throughout the\n",
    "paper, each training step took about 0.4 seconds.  We trained the\n",
    "base models for a total of 100,000 steps or 12 hours. For our big\n",
    "models, step time was 1.0 seconds.  The big models were trained for\n",
    "300,000 steps (3.5 days)."
   ]
  },
  {
   "cell_type": "markdown",
   "metadata": {
    "id": "-utZeuGcTsqJ"
   },
   "source": [
    "## Optimizer\n",
    "\n",
    "We used the Adam optimizer [(cite)](https://arxiv.org/abs/1412.6980)\n",
    "with $\\beta_1=0.9$, $\\beta_2=0.98$ and $\\epsilon=10^{-9}$.  We\n",
    "varied the learning rate over the course of training, according to\n",
    "the formula:\n",
    "\n",
    "$$\n",
    "lrate = d_{\\text{model}}^{-0.5} \\cdot\n",
    "  \\min({step\\_num}^{-0.5},\n",
    "    {step\\_num} \\cdot {warmup\\_steps}^{-1.5})\n",
    "$$\n",
    "\n",
    "This corresponds to increasing the learning rate linearly for the\n",
    "first $warmup\\_steps$ training steps, and decreasing it thereafter\n",
    "proportionally to the inverse square root of the step number.  We\n",
    "used $warmup\\_steps=4000$."
   ]
  },
  {
   "cell_type": "markdown",
   "metadata": {
    "id": "39FbYnt-TsqJ"
   },
   "source": [
    "\n",
    "> Note: This part is very important. Need to train with this setup\n",
    "> of the model."
   ]
  },
  {
   "cell_type": "markdown",
   "metadata": {
    "id": "hlbojFkjTsqJ"
   },
   "source": [
    "\n",
    "> Example of the curves of this model for different model sizes and\n",
    "> for optimization hyperparameters."
   ]
  },
  {
   "cell_type": "code",
   "execution_count": null,
   "metadata": {
    "id": "zUz3PdAnVg4o"
   },
   "outputs": [],
   "source": [
    "def rate(step, model_size, factor, warmup):\n",
    "    \"\"\"\n",
    "    we have to default the step to 1 for LambdaLR function\n",
    "    to avoid zero raising to negative power.\n",
    "    \"\"\"\n",
    "    if step == 0:\n",
    "        step = 1\n",
    "    return factor * (\n",
    "        model_size ** (-0.5) * min(step ** (-0.5), step * warmup ** (-1.5))\n",
    "    )"
   ]
  },
  {
   "cell_type": "code",
   "execution_count": null,
   "metadata": {
    "id": "l1bnrlnSV8J5"
   },
   "outputs": [],
   "source": [
    "def example_learning_schedule():\n",
    "    opts = [\n",
    "        [512, 1, 4000],  # example 1\n",
    "        [512, 1, 8000],  # example 2\n",
    "        [256, 1, 4000],\n",
    "    ]  # example 3\n",
    "\n",
    "    # A dummpy for demo.\n",
    "    dummy_model = make_model(10, 10, 2)\n",
    "\n",
    "    show_list = []\n",
    "\n",
    "    # we have 3 examples in opts list.\n",
    "    for example in opts:\n",
    "        # run 20000 epoch for each example\n",
    "        optimizer = torch.optim.Adam(\n",
    "            dummy_model.parameters(), lr=1, betas=(0.9, 0.98), eps=1e-9\n",
    "        )\n",
    "        lr_scheduler = LambdaLR(\n",
    "            optimizer=optimizer, lr_lambda=lambda step: rate(step, *example)\n",
    "        )\n",
    "        tmp = []\n",
    "        for step in range(20000):\n",
    "            tmp.append(optimizer.param_groups[0][\"lr\"])\n",
    "            optimizer.step()\n",
    "            lr_scheduler.step()\n",
    "            optimizer.zero_grad()\n",
    "        show_list.append(tmp)\n",
    "\n",
    "    show_list = torch.tensor(show_list).T\n",
    "\n",
    "    # Enable altair to handle more than 5000 rows\n",
    "    alt.data_transformers.disable_max_rows()\n",
    "\n",
    "    opts_data = pd.concat(\n",
    "        [\n",
    "            pd.DataFrame(\n",
    "                {\n",
    "                    \"Learning Rate\": show_list[:, warmup_idx],\n",
    "                    \"model_size:warmup\": [\"512:4000\", \"512:8000\", \"256:4000\"][\n",
    "                        warmup_idx\n",
    "                    ],\n",
    "                    \"step\": list(range(20000)),\n",
    "                }\n",
    "            )\n",
    "            for warmup_idx in [0, 1, 2]\n",
    "        ]\n",
    "    )\n",
    "\n",
    "    return (\n",
    "        alt.Chart(opts_data)\n",
    "        .mark_line()\n",
    "        .properties(width=600)\n",
    "        .encode(x=\"step\", y=\"Learning Rate\", color=\"model_size:warmup:N\")\n",
    "    )\n",
    "\n",
    "\n",
    "show_example(example_learning_schedule)"
   ]
  },
  {
   "cell_type": "markdown",
   "metadata": {
    "id": "7T1uD15VTsqK"
   },
   "source": [
    "## Regularization\n",
    "\n",
    "### Label Smoothing\n",
    "\n",
    "During training, we employed label smoothing of value\n",
    "$\\epsilon_{ls}=0.1$ [(cite)](https://arxiv.org/abs/1512.00567).\n",
    "This hurts perplexity, as the model learns to be more unsure, but\n",
    "improves accuracy and BLEU score."
   ]
  },
  {
   "cell_type": "markdown",
   "metadata": {
    "id": "kNoAVD8bTsqK"
   },
   "source": [
    "\n",
    "> We implement label smoothing using the KL div loss. Instead of\n",
    "> using a one-hot target distribution, we create a distribution that\n",
    "> has `confidence` of the correct word and the rest of the\n",
    "> `smoothing` mass distributed throughout the vocabulary."
   ]
  },
  {
   "cell_type": "code",
   "execution_count": null,
   "metadata": {
    "id": "shU2GyiETsqK",
    "lines_to_next_cell": 2
   },
   "outputs": [],
   "source": [
    "class LabelSmoothing(nn.Module):\n",
    "    \"Implement label smoothing.\"\n",
    "\n",
    "    def __init__(self, size, padding_idx, smoothing=0.0):\n",
    "        super(LabelSmoothing, self).__init__()\n",
    "        self.criterion = nn.KLDivLoss(reduction=\"sum\")\n",
    "        self.padding_idx = padding_idx\n",
    "        self.confidence = 1.0 - smoothing\n",
    "        self.smoothing = smoothing\n",
    "        self.size = size\n",
    "        self.true_dist = None\n",
    "\n",
    "    def forward(self, x, target):\n",
    "        assert x.size(1) == self.size\n",
    "        true_dist = x.data.clone()\n",
    "        true_dist.fill_(self.smoothing / (self.size - 2))\n",
    "        true_dist.scatter_(1, target.data.unsqueeze(1), self.confidence)\n",
    "        true_dist[:, self.padding_idx] = 0\n",
    "        mask = torch.nonzero(target.data == self.padding_idx)\n",
    "        if mask.dim() > 0:\n",
    "            true_dist.index_fill_(0, mask.squeeze(), 0.0)\n",
    "        self.true_dist = true_dist\n",
    "        return self.criterion(x, true_dist.clone().detach())"
   ]
  },
  {
   "cell_type": "markdown",
   "metadata": {
    "id": "jCxUrlUyTsqK"
   },
   "source": [
    "\n",
    "> Here we can see an example of how the mass is distributed to the\n",
    "> words based on confidence."
   ]
  },
  {
   "cell_type": "code",
   "execution_count": null,
   "metadata": {
    "id": "EZtKaaQNTsqK"
   },
   "outputs": [],
   "source": [
    "# Example of label smoothing.\n",
    "\n",
    "\n",
    "def example_label_smoothing():\n",
    "    crit = LabelSmoothing(5, 0, 0.4)\n",
    "    predict = torch.FloatTensor(\n",
    "        [\n",
    "            [0, 0.2, 0.7, 0.1, 0],\n",
    "            [0, 0.2, 0.7, 0.1, 0],\n",
    "            [0, 0.2, 0.7, 0.1, 0],\n",
    "            [0, 0.2, 0.7, 0.1, 0],\n",
    "            [0, 0.2, 0.7, 0.1, 0],\n",
    "        ]\n",
    "    )\n",
    "    crit(x=predict.log(), target=torch.LongTensor([2, 1, 0, 3, 3]))\n",
    "    LS_data = pd.concat(\n",
    "        [\n",
    "            pd.DataFrame(\n",
    "                {\n",
    "                    \"target distribution\": crit.true_dist[x, y].flatten(),\n",
    "                    \"columns\": y,\n",
    "                    \"rows\": x,\n",
    "                }\n",
    "            )\n",
    "            for y in range(5)\n",
    "            for x in range(5)\n",
    "        ]\n",
    "    )\n",
    "\n",
    "    return (\n",
    "        alt.Chart(LS_data)\n",
    "        .mark_rect(color=\"Blue\", opacity=1)\n",
    "        .properties(height=200, width=200)\n",
    "        .encode(\n",
    "            alt.X(\"columns:O\", title=None),\n",
    "            alt.Y(\"rows:O\", title=None),\n",
    "            alt.Color(\n",
    "                \"target distribution:Q\", scale=alt.Scale(scheme=\"viridis\")\n",
    "            ),\n",
    "        )\n",
    "    )\n",
    "\n",
    "\n",
    "show_example(example_label_smoothing)"
   ]
  },
  {
   "cell_type": "markdown",
   "metadata": {
    "id": "CGM8J1veTsqK"
   },
   "source": [
    "\n",
    "> Label smoothing actually starts to penalize the model if it gets\n",
    "> very confident about a given choice."
   ]
  },
  {
   "cell_type": "code",
   "execution_count": null,
   "metadata": {
    "id": "78EHzLP7TsqK"
   },
   "outputs": [],
   "source": [
    "crit = LabelSmoothing(5, 0, 0.1)\n",
    "\n",
    "\n",
    "def loss(x):\n",
    "    d = x + 3 * 1\n",
    "    predict = torch.FloatTensor([[0, x / d, 1 / d, 1 / d, 1 / d]])\n",
    "    return crit(predict.log(), torch.LongTensor([1])).data\n",
    "\n",
    "\n",
    "def example_label_smoothing2():\n",
    "    loss_data = pd.DataFrame(\n",
    "        {\"Loss\": [loss(x) for x in range(1, 100)], \"Steps\": list(range(99))}\n",
    "    ).astype(\"float\")\n",
    "\n",
    "    return (\n",
    "        alt.Chart(loss_data)\n",
    "        .mark_line()\n",
    "        .properties(width=350)\n",
    "        .encode(\n",
    "            x=\"Steps\",\n",
    "            y=\"Loss\",\n",
    "        )\n",
    "    )\n",
    "\n",
    "\n",
    "show_example(example_label_smoothing2)"
   ]
  },
  {
   "cell_type": "markdown",
   "metadata": {
    "id": "67lUqeLXTsqK"
   },
   "source": [
    "# A First  Example\n",
    "\n",
    "> We can begin by trying out a simple copy-task. Given a random set\n",
    "> of input symbols from a small vocabulary, the goal is to generate\n",
    "> back those same symbols."
   ]
  },
  {
   "cell_type": "markdown",
   "metadata": {
    "id": "jJa-89_pTsqK"
   },
   "source": [
    "## Synthetic Data"
   ]
  },
  {
   "cell_type": "code",
   "execution_count": null,
   "metadata": {
    "id": "g1aTxeqqTsqK"
   },
   "outputs": [],
   "source": [
    "def data_gen(V, batch, nbatches):\n",
    "    \"Generate random data for a src-tgt copy task.\"\n",
    "    for i in range(nbatches):\n",
    "        data = torch.randint(1, V, size=(batch, 10))\n",
    "        data[:, 0] = 1\n",
    "        src = data.requires_grad_(False).clone().detach()\n",
    "        tgt = data.requires_grad_(False).clone().detach()\n",
    "        yield Batch(src, tgt, 0)"
   ]
  },
  {
   "cell_type": "markdown",
   "metadata": {
    "id": "XTXwD9hUTsqK"
   },
   "source": [
    "## Loss Computation"
   ]
  },
  {
   "cell_type": "code",
   "execution_count": null,
   "metadata": {
    "id": "3J8EJm87TsqK"
   },
   "outputs": [],
   "source": [
    "class SimpleLossCompute:\n",
    "    \"A simple loss compute and train function.\"\n",
    "\n",
    "    def __init__(self, generator, criterion, opt=None, lr_scheduler=None):\n",
    "        self.generator = generator\n",
    "        self.criterion = criterion\n",
    "        self.opt = opt\n",
    "        self.lr_scheduler = lr_scheduler\n",
    "\n",
    "    def __call__(self, x, y, norm):\n",
    "        x = self.generator(x)\n",
    "        sloss = (\n",
    "            self.criterion(\n",
    "                x.contiguous().view(-1, x.size(-1)), y.contiguous().view(-1)\n",
    "            )\n",
    "            / norm\n",
    "        )\n",
    "        sloss.backward()\n",
    "        if self.opt is not None:\n",
    "           self.opt.step()\n",
    "           self.opt.zero_grad()\n",
    "           if self.lr_scheduler:\n",
    "               self.lr_scheduler.step()\n",
    "        return sloss.data * norm"
   ]
  },
  {
   "cell_type": "markdown",
   "metadata": {
    "id": "eDAI7ELUTsqL"
   },
   "source": [
    "## Greedy Decoding"
   ]
  },
  {
   "cell_type": "markdown",
   "metadata": {
    "id": "LFkWakplTsqL",
    "lines_to_next_cell": 0
   },
   "source": [
    "> This code predicts a translation using greedy decoding for simplicity."
   ]
  },
  {
   "cell_type": "code",
   "execution_count": null,
   "metadata": {
    "id": "N2UOpnT3bIyU",
    "lines_to_next_cell": 2
   },
   "outputs": [],
   "source": [
    "def greedy_decode(model, src, src_mask, max_len, start_symbol):\n",
    "    memory = model.encode(src, src_mask)\n",
    "    ys = torch.ones(1, 1).fill_(start_symbol).type_as(src.data)\n",
    "    for i in range(max_len - 1):\n",
    "        out = model.decode(\n",
    "            memory, src_mask, ys, subsequent_mask(ys.size(1)).type_as(src.data)\n",
    "        )\n",
    "        prob = model.generator(out[:, -1])\n",
    "        _, next_word = torch.max(prob, dim=1)\n",
    "        next_word = next_word.data[0]\n",
    "        ys = torch.cat(\n",
    "            [ys, torch.ones(1, 1).type_as(src.data).fill_(next_word)], dim=1\n",
    "        )\n",
    "    return ys"
   ]
  },
  {
   "cell_type": "code",
   "execution_count": null,
   "metadata": {
    "id": "qgIZ2yEtdYwe"
   },
   "outputs": [],
   "source": [
    "# Train the simple copy task.\n",
    "\n",
    "\n",
    "def example_simple_model():\n",
    "    V = 11\n",
    "    criterion = LabelSmoothing(size=V, padding_idx=0, smoothing=0.0)\n",
    "    model = make_model(V, V, N=2)\n",
    "\n",
    "    optimizer = torch.optim.Adam(\n",
    "        model.parameters(), lr=1.0, betas=(0.9, 0.98), eps=1e-9\n",
    "    )\n",
    "    lr_scheduler = LambdaLR(\n",
    "        optimizer=optimizer,\n",
    "        lr_lambda=lambda step: rate(\n",
    "            step, model_size=model.src_embed[0].d_model, factor=1, warmup=400\n",
    "        ),\n",
    "    )\n",
    "\n",
    "    for epoch in range(10):\n",
    "        model.train()\n",
    "        run_epoch(\n",
    "            data_gen(V, 30, 20),\n",
    "            model,\n",
    "            SimpleLossCompute(\n",
    "                model.generator, criterion, optimizer, lr_scheduler\n",
    "            ),\n",
    "        )\n",
    "        model.eval()\n",
    "        print(\n",
    "            run_epoch(\n",
    "                data_gen(V, 30, 5),\n",
    "                model,\n",
    "                SimpleLossCompute(model.generator, criterion, None),\n",
    "            )\n",
    "        )\n",
    "\n",
    "    model.eval()\n",
    "    src = torch.LongTensor([[1, 2, 3, 4, 5, 6, 7, 8, 9, 10]])\n",
    "    src_mask = torch.ones(1, 1, 10)\n",
    "    print(greedy_decode(model, src, src_mask, max_len=10, start_symbol=1))\n",
    "\n",
    "\n",
    "train_example(example_simple_model)"
   ]
  },
  {
   "cell_type": "markdown",
   "metadata": {
    "id": "OpuQv2GsTsqL"
   },
   "source": [
    "# Tutorial 3: A Real World Example\n",
    "\n",
    "> Now we consider a real-world example using the IWSLT\n",
    "> German-English Translation task. This task is much smaller than\n",
    "> the WMT task considered in the paper, but it illustrates the whole\n",
    "> system. We also show how to use multi-gpu processing to make it\n",
    "> really fast."
   ]
  },
  {
   "cell_type": "code",
   "execution_count": null,
   "metadata": {},
   "outputs": [],
   "source": [
    "!which python"
   ]
  },
  {
   "cell_type": "code",
   "execution_count": null,
   "metadata": {},
   "outputs": [],
   "source": [
    "# These only need to be run once to download english/german language models with spacy.\n",
    "\n",
    "# !python -m spacy download en\n",
    "# !python -m spacy download de"
   ]
  },
  {
   "cell_type": "markdown",
   "metadata": {
    "id": "8y9dpfolTsqL",
    "tags": []
   },
   "source": [
    "## Data Loading\n",
    "\n",
    "> We will load the dataset using torchtext and spacy for\n",
    "> tokenization."
   ]
  },
  {
   "cell_type": "code",
   "execution_count": null,
   "metadata": {
    "id": "t4BszXXJTsqL",
    "tags": []
   },
   "outputs": [],
   "source": [
    "\n",
    "\n",
    "def tokenize_de(text):\n",
    "    return [tok.text for tok in spacy_de.tokenizer(text)]\n",
    "\n",
    "\n",
    "def tokenize_en(text):\n",
    "    return [tok.text for tok in spacy_en.tokenizer(text)]\n",
    "\n",
    "\n",
    "def yield_tokens(data_iter, tokenizer, index):\n",
    "    for from_to_tuple in data_iter:\n",
    "        yield tokenizer(from_to_tuple[index])"
   ]
  },
  {
   "cell_type": "code",
   "execution_count": null,
   "metadata": {
    "id": "jU3kVlV5okC-",
    "tags": []
   },
   "outputs": [],
   "source": [
    "print(\"Building German Vocabulary ...\")\n",
    "\n",
    "spacy_de = spacy.load(\"de_core_news_sm\")\n",
    "spacy_en = spacy.load(\"en_core_web_sm\")\n",
    "\n",
    "train, val, test = datasets.IWSLT2016(language_pair=(\"de\", \"en\"))\n",
    "vocab_src = build_vocab_from_iterator(\n",
    "    yield_tokens(train + val + test, tokenize_de, index=0),\n",
    "    min_freq=2,\n",
    "    specials=[\"<s>\", \"</s>\", \"<blank>\", \"<unk>\"],\n",
    ")\n",
    "\n",
    "print(\"Building English Vocabulary ...\")\n",
    "train, val, test = datasets.IWSLT2016(language_pair=(\"de\", \"en\"))\n",
    "vocab_tgt = build_vocab_from_iterator(\n",
    "    yield_tokens(train + val + test, tokenize_en, index=1),\n",
    "    min_freq=2,\n",
    "    specials=[\"<s>\", \"</s>\", \"<blank>\", \"<unk>\"],\n",
    ")\n",
    "\n",
    "vocab_src.set_default_index(vocab_src[\"<unk>\"])\n",
    "vocab_tgt.set_default_index(vocab_tgt[\"<unk>\"])\n",
    "\n",
    "print(\"Finished.\\nVocabulary sizes:\")\n",
    "print(len(vocab_src))\n",
    "print(len(vocab_tgt))"
   ]
  },
  {
   "cell_type": "markdown",
   "metadata": {
    "id": "-l-TFwzfTsqL"
   },
   "source": [
    "\n",
    "> Batching matters a ton for speed. We want to have very evenly\n",
    "> divided batches, with absolutely minimal padding. To do this we\n",
    "> have to hack a bit around the default torchtext batching. This\n",
    "> code patches their default batching to make sure we search over\n",
    "> enough sentences to find tight batches."
   ]
  },
  {
   "cell_type": "markdown",
   "metadata": {
    "incorrectly_encoded_metadata": "id=\"kDEj-hCgokC-\" tags=[] jp-MarkdownHeadingCollapsed=true"
   },
   "source": [
    "## Iterators"
   ]
  },
  {
   "cell_type": "code",
   "execution_count": null,
   "metadata": {
    "id": "wGsIHFgOokC_",
    "tags": []
   },
   "outputs": [],
   "source": [
    "\n",
    "\n",
    "def collate_batch(\n",
    "    batch,\n",
    "    src_pipeline,\n",
    "    tgt_pipeline,\n",
    "    src_vocab,\n",
    "    tgt_vocab,\n",
    "    device,\n",
    "    max_padding=128,\n",
    "    pad_id=0,\n",
    "):\n",
    "    src_list, tgt_list = [], []\n",
    "    for (_src, _tgt) in batch:\n",
    "        processed_src = torch.tensor(\n",
    "            src_vocab(src_pipeline(_src)), dtype=torch.int64\n",
    "        )\n",
    "        processed_tgt = torch.tensor(\n",
    "            tgt_vocab(tgt_pipeline(_tgt)), dtype=torch.int64\n",
    "        )\n",
    "        src_list.append(\n",
    "            pad(\n",
    "                processed_src,\n",
    "                (0, max_padding - len(processed_src)),\n",
    "                value=pad_id,\n",
    "            )\n",
    "        )\n",
    "        tgt_list.append(\n",
    "            pad(\n",
    "                processed_tgt,\n",
    "                (0, max_padding - len(processed_tgt)),\n",
    "                value=pad_id,\n",
    "            )\n",
    "        )\n",
    "\n",
    "    src = torch.stack(src_list)\n",
    "    tgt = torch.stack(tgt_list)\n",
    "    return src.to(device), tgt.to(device)"
   ]
  },
  {
   "cell_type": "code",
   "execution_count": null,
   "metadata": {
    "id": "ka2Ce_WIokC_"
   },
   "outputs": [],
   "source": [
    "def create_dataloaders(devices, batch_size=12000):\n",
    "    def collate_fn(batch):\n",
    "        return collate_batch(\n",
    "            batch, tokenize_de, tokenize_en, vocab_src, vocab_tgt, devices[0]\n",
    "        )\n",
    "\n",
    "    train_iter, valid_iter, test_iter = datasets.IWSLT2016(\n",
    "        language_pair=(\"de\", \"en\")\n",
    "    )\n",
    "    train_dataloader = DataLoader(\n",
    "        to_map_style_dataset(train_iter),\n",
    "        batch_size=batch_size,\n",
    "        shuffle=True,\n",
    "        collate_fn=collate_fn,\n",
    "    )\n",
    "    valid_dataloader = DataLoader(\n",
    "        to_map_style_dataset(valid_iter),\n",
    "        batch_size=batch_size,\n",
    "        shuffle=True,\n",
    "        collate_fn=collate_fn,\n",
    "    )\n",
    "    return train_dataloader, valid_dataloader"
   ]
  },
  {
   "cell_type": "markdown",
   "metadata": {
    "id": "n-aVUlpjTsqM"
   },
   "source": [
    "\n",
    "> Now we train the model. I will play with the warmup steps a bit,\n",
    "> but everything else uses the default parameters.  On an AWS\n",
    "> p3.8xlarge with 4 Tesla V100s, this runs at ~27,000 tokens per\n",
    "> second with a batch size of 12,000"
   ]
  },
  {
   "cell_type": "markdown",
   "metadata": {
    "id": "90qM8RzCTsqM"
   },
   "source": [
    "## Training the System"
   ]
  },
  {
   "cell_type": "code",
   "execution_count": null,
   "metadata": {
    "id": "Kx53VVTgTsqM",
    "tags": []
   },
   "outputs": [],
   "source": [
    "#!wget https://s3.amazonaws.com/opennmt-models/iwslt.pt"
   ]
  },
  {
   "cell_type": "code",
   "execution_count": null,
   "metadata": {
    "id": "9hR8Rvx-okDA"
   },
   "outputs": [],
   "source": [
    "def rebatch(pad_idx, batch):\n",
    "    \"Fix order in torchtext to match ours\"\n",
    "    src, tgt = batch[0], batch[1]\n",
    "    return Batch(src, tgt, pad_idx)"
   ]
  },
  {
   "cell_type": "code",
   "execution_count": null,
   "metadata": {},
   "outputs": [],
   "source": [
    "def train_model(vocab_src, vocab_tgt, devices):\n",
    "    pad_idx = vocab_tgt[\"<blank>\"]\n",
    "    model = make_model(len(vocab_src), len(vocab_tgt), N=6)\n",
    "    d_model = 512\n",
    "    model.cuda()\n",
    "    criterion = LabelSmoothing(\n",
    "        size=len(vocab_tgt), padding_idx=pad_idx, smoothing=0.1\n",
    "    )\n",
    "    criterion.cuda()\n",
    "    # BATCH_SIZE = 12000\n",
    "    BATCH_SIZE = 1 # for debugging\n",
    "    train_dataloader, valid_dataloader = create_dataloaders(\n",
    "        devices, BATCH_SIZE\n",
    "    )\n",
    "\n",
    "    optimizer = torch.optim.Adam(\n",
    "        model.parameters(), lr=1.0, betas=(0.9, 0.98), eps=1e-9\n",
    "    )\n",
    "    lr_scheduler = LambdaLR(\n",
    "        optimizer=optimizer,\n",
    "        lr_lambda=lambda step: rate(\n",
    "            step, d_model, factor=1, warmup=2000\n",
    "        ),\n",
    "    )\n",
    "    for epoch in range(10):\n",
    "        model.train()\n",
    "        run_epoch(\n",
    "            (rebatch(pad_idx, b) for b in train_dataloader),\n",
    "            model,\n",
    "            SimpleLossCompute(\n",
    "                model.generator,\n",
    "                criterion,\n",
    "                opt=optimizer,\n",
    "                lr_scheduler=lr_scheduler,\n",
    "            ),\n",
    "        )\n",
    "        model.eval()\n",
    "        sloss = run_epoch(\n",
    "            (rebatch(pad_idx, b) for b in valid_dataloader),\n",
    "            model,\n",
    "            SimpleLossCompute(model.generator, criterion, opt=None),\n",
    "        )\n",
    "        print(sloss) \n",
    "    return model"
   ]
  },
  {
   "cell_type": "code",
   "execution_count": null,
   "metadata": {
    "id": "jZeYHJcdTsqN"
   },
   "outputs": [],
   "source": [
    "create_model = True\n",
    "devices = range(torch.cuda.device_count())\n",
    "\n",
    "if create_model:\n",
    "    model = train_model(vocab_src, vocab_tgt, devices)\n",
    "else:\n",
    "    model = torch.load(\"iwslt.pt\")"
   ]
  },
  {
   "cell_type": "markdown",
   "metadata": {
    "id": "RZK_VjDPTsqN"
   },
   "source": [
    "\n",
    "> Once trained we can decode the model to produce a set of\n",
    "> translations. Here we simply translate the first sentence in the\n",
    "> validation set. This dataset is pretty small so the translations\n",
    "> with greedy search are reasonably accurate."
   ]
  },
  {
   "cell_type": "code",
   "execution_count": null,
   "metadata": {
    "id": "f0mNHT4iTsqN"
   },
   "outputs": [],
   "source": [
    "# for i, batch in enumerate(valid_iter):\n",
    "#     src = batch.src.transpose(0, 1)[:1]\n",
    "#     src_mask = (src != SRC.vocab.stoi[\"<blank>\"]).unsqueeze(-2)\n",
    "#     out = greedy_decode(\n",
    "#         model, src, src_mask, max_len=60, start_symbol=TGT.vocab.stoi[\"<s>\"]\n",
    "#     )\n",
    "#     print(\"Translation:\", end=\"\\t\")\n",
    "#     for i in range(1, out.size(1)):\n",
    "#         sym = TGT.vocab.itos[out[0, i]]\n",
    "#         if sym == \"</s>\":\n",
    "#             break\n",
    "#         print(sym, end=\" \")\n",
    "#     print()\n",
    "#     print(\"Target:\", end=\"\\t\")\n",
    "#     for i in range(1, batch.tgt.size(0)):\n",
    "#         sym = TGT.vocab.itos[batch.tgt.data[i, 0]]\n",
    "#         if sym == \"</s>\":\n",
    "#             break\n",
    "#         print(sym, end=\" \")\n",
    "#     print()\n",
    "#     break"
   ]
  },
  {
   "cell_type": "markdown",
   "metadata": {
    "id": "L50i0iEXTsqN"
   },
   "source": [
    "# Additional Components: BPE, Search, Averaging"
   ]
  },
  {
   "cell_type": "markdown",
   "metadata": {
    "id": "NBx1C2_NTsqN"
   },
   "source": [
    "\n",
    "> So this mostly covers the transformer model itself. There are four\n",
    "> aspects that we didn't cover explicitly. We also have all these\n",
    "> additional features implemented in\n",
    "> [OpenNMT-py](https://github.com/opennmt/opennmt-py).\n",
    "\n"
   ]
  },
  {
   "cell_type": "markdown",
   "metadata": {
    "id": "UpqV1mWnTsqN"
   },
   "source": [
    "\n",
    "> 1) BPE/ Word-piece: We can use a library to first preprocess the\n",
    "> data into subword units. See Rico Sennrich's\n",
    "> [subword-nmt](https://github.com/rsennrich/subword-nmt)\n",
    "> implementation. These models will transform the training data to\n",
    "> look like this:"
   ]
  },
  {
   "cell_type": "markdown",
   "metadata": {
    "id": "hwJ_9J0BTsqN"
   },
   "source": [
    "▁Die ▁Protokoll datei ▁kann ▁ heimlich ▁per ▁E - Mail ▁oder ▁FTP\n",
    "▁an ▁einen ▁bestimmte n ▁Empfänger ▁gesendet ▁werden ."
   ]
  },
  {
   "cell_type": "markdown",
   "metadata": {
    "id": "9HwejYkpTsqN"
   },
   "source": [
    "\n",
    "> 2) Shared Embeddings: When using BPE with shared vocabulary we can\n",
    "> share the same weight vectors between the source / target /\n",
    "> generator. See the [(cite)](https://arxiv.org/abs/1608.05859) for\n",
    "> details. To add this to the model simply do this:"
   ]
  },
  {
   "cell_type": "code",
   "execution_count": null,
   "metadata": {
    "id": "tb3j3CYLTsqN",
    "tags": []
   },
   "outputs": [],
   "source": [
    "if False:\n",
    "    model.src_embed[0].lut.weight = model.tgt_embeddings[0].lut.weight\n",
    "    model.generator.lut.weight = model.tgt_embed[0].lut.weight"
   ]
  },
  {
   "cell_type": "markdown",
   "metadata": {
    "id": "xDKJsSwRTsqN"
   },
   "source": [
    "\n",
    "> 3) Beam Search: This is a bit too complicated to cover here. See\n",
    "> the [OpenNMT-py](https://github.com/OpenNMT/OpenNMT-py/blob/\n",
    "\n",
    "/onmt/translate/Beam.py) for a pytorch implementation.\n",
    "\n"
   ]
  },
  {
   "cell_type": "markdown",
   "metadata": {
    "id": "wf3vVYGZTsqN"
   },
   "source": [
    "\n",
    "> 4) Model Averaging: The paper averages the last k checkpoints to\n",
    "> create an ensembling effect. We can do this after the fact if we\n",
    "> have a bunch of models:"
   ]
  },
  {
   "cell_type": "code",
   "execution_count": null,
   "metadata": {
    "id": "hAFEa78JokDB"
   },
   "outputs": [],
   "source": [
    "def average(model, models):\n",
    "    \"Average models into model\"\n",
    "    for ps in zip(*[m.params() for m in [model] + models]):\n",
    "        ps[0].copy_(torch.sum(*ps[1:]) / len(ps[1:]))"
   ]
  },
  {
   "cell_type": "markdown",
   "metadata": {
    "id": "Kz5BYJ9sTsqO"
   },
   "source": [
    "# Results\n",
    "\n",
    "On the WMT 2014 English-to-German translation task, the big\n",
    "transformer model (Transformer (big) in Table 2) outperforms the\n",
    "best previously reported models (including ensembles) by more than\n",
    "2.0 BLEU, establishing a new state-of-the-art BLEU score of\n",
    "28.4. The configuration of this model is listed in the bottom line\n",
    "of Table 3. Training took 3.5 days on 8 P100 GPUs. Even our base\n",
    "model surpasses all previously published models and ensembles, at a\n",
    "fraction of the training cost of any of the competitive models.\n",
    "\n",
    "On the WMT 2014 English-to-French translation task, our big model\n",
    "achieves a BLEU score of 41.0, outperforming all of the previously\n",
    "published single models, at less than 1/4 the training cost of the\n",
    "previous state-of-the-art model. The Transformer (big) model trained\n",
    "for English-to-French used dropout rate Pdrop = 0.1, instead of 0.3.\n"
   ]
  },
  {
   "cell_type": "markdown",
   "metadata": {},
   "source": [
    "![](images/results.png)"
   ]
  },
  {
   "cell_type": "markdown",
   "metadata": {
    "id": "cPcnsHvQTsqO"
   },
   "source": [
    "\n",
    "> The code we have written here is a version of the base\n",
    "> model. There are fully trained version of this system available\n",
    "> here [(Example Models)](http://opennmt.net/Models-py/).\n",
    "\n",
    "> With the addtional extensions in the last section, the OpenNMT-py\n",
    "> replication gets to 26.9 on EN-DE WMT. Here I have loaded in those\n",
    "> parameters to our reimplemenation."
   ]
  },
  {
   "cell_type": "code",
   "execution_count": null,
   "metadata": {
    "id": "LHLDc7enokDB"
   },
   "outputs": [],
   "source": [
    "!wget https://s3.amazonaws.com/opennmt-models/en-de-model.pt"
   ]
  },
  {
   "cell_type": "code",
   "execution_count": null,
   "metadata": {
    "id": "Y37eUkL-okDB"
   },
   "outputs": [],
   "source": [
    "def example_greedy():\n",
    "    model, SRC, TGT = torch.load(\"en-de-model.pt\")\n",
    "\n",
    "    model.eval()\n",
    "    sent = \"\"\"\n",
    "    ▁The ▁log ▁file ▁can ▁be ▁sent ▁secret ly ▁with ▁email ▁or\n",
    "    ▁FTP ▁to ▁a ▁specified ▁receiver\n",
    "    \"\"\".split()\n",
    "    src = torch.LongTensor([[SRC.stoi[w] for w in sent]])\n",
    "    src_mask = (src != SRC.stoi[\"<blank>\"]).unsqueeze(-2)\n",
    "    out = greedy_decode(\n",
    "        model, src, src_mask, max_len=60, start_symbol=TGT.stoi[\"<s>\"]\n",
    "    )\n",
    "    print(\"Translation:\", end=\"\\t\")\n",
    "    trans = \"<s> \"\n",
    "    for i in range(1, out.size(1)):\n",
    "        sym = TGT.itos[out[0, i]]\n",
    "        if sym == \"</s>\":\n",
    "            break\n",
    "        trans += sym + \" \"\n",
    "    print(trans)\n",
    "    return trans\n",
    "\n",
    "\n",
    "show_example(example_greedy)"
   ]
  },
  {
   "cell_type": "markdown",
   "metadata": {
    "id": "0ZkkNTKLTsqO"
   },
   "source": [
    "## Attention Visualization\n",
    "\n",
    "> Even with a greedy decoder the translation looks pretty good. We\n",
    "> can further visualize it to see what is happening at each layer of\n",
    "> the attention"
   ]
  },
  {
   "cell_type": "code",
   "execution_count": null,
   "metadata": {
    "id": "6aS3Be3jokDB"
   },
   "outputs": [],
   "source": [
    "\n",
    "\n",
    "def example_attention(model, tgt_sent):\n",
    "    return None\n",
    "    # Atten_data = pd.concat(\n",
    "    #     [\n",
    "    #         pd.DataFrame(\n",
    "    #             {\n",
    "    #                 \"Similarity_Layer1h0\": model.encoder.layers[0]\n",
    "    #                 .self_attn.attn[0, h]\n",
    "    #                 .data[x, y]\n",
    "    #                 .flatten(),\n",
    "    #                 \"W1\": y1,\n",
    "    #                 \"W2\": x1,\n",
    "    #             }\n",
    "    #         )\n",
    "    #         for y, y1 in enumerate(sent)\n",
    "    #         for x, x1 in enumerate(sent)\n",
    "    #     ]\n",
    "    # )\n",
    "\n",
    "    # char = []\n",
    "    # h_char = []\n",
    "    # for layer in range(1, 6, 2):\n",
    "    #     for h in range(4):\n",
    "    #         Layer_name = \"Similarity_Layer\" + str(layer) + \"h\" + str(h)\n",
    "    #         Atten_data[Layer_name] = (\n",
    "    #             model.encoder.layers[layer] \\\n",
    "    #                 .self_attn.attn[0, h].data.flatten()\n",
    "    #         )\n",
    "\n",
    "    #         base = (\n",
    "    #             alt.Chart(Atten_data)\n",
    "    #             .mark_rect(opacity=1)\n",
    "    #             .properties(height=150, width=150)\n",
    "    #             .encode(\n",
    "    #                 alt.X(\n",
    "    #                     \"W2:N\",\n",
    "    #                     sort=sent,\n",
    "    #                     title=None,\n",
    "    #                 ),\n",
    "    #                 alt.Y(\"W1:N\", sort=sent, title=None),\n",
    "    #                 alt.Color(\n",
    "    #                     Layer_name + \":Q\", scale=alt.Scale(scheme=\"darkred\")\n",
    "    #                 ),\n",
    "    #             )\n",
    "    #         )\n",
    "    #         char.append(base)\n",
    "    #     h_char.append(\n",
    "    #         alt.hconcat(\n",
    "    #             char[0],\n",
    "    #             char[1],\n",
    "    #             char[2],\n",
    "    #             char[3],\n",
    "    #             title=\"Encoder Layer\" + str(layer + 1),\n",
    "    #         )\n",
    "    #     )\n",
    "    #     char = []\n",
    "\n",
    "    # alt.vconcat(h_char[0], h_char[1], h_char[2])\n",
    "\n",
    "    # # %% id=\"17lYaiKDokDC\"\n",
    "    # Atten_data = pd.concat(\n",
    "    #     [\n",
    "    #         pd.DataFrame(\n",
    "    #             {\n",
    "    #                 \"Similarity_Layer1h0\": model.decoder.layers[layer]\n",
    "    #                 .self_attn.attn[0, h]\n",
    "    #                 .data[: len(tgt_sent), : len(tgt_sent)][x, y]\n",
    "    #                 .flatten(),\n",
    "    #                 \"W1\": y1,\n",
    "    #                 \"W2\": x1,\n",
    "    #             }\n",
    "    #         )\n",
    "    #         for y, y1 in enumerate(sent)\n",
    "    #         for x, x1 in enumerate(tgt_sent)\n",
    "    #     ]\n",
    "    # )\n",
    "\n",
    "    # char = []\n",
    "    # h_char = []\n",
    "    # for layer in range(1, 6, 2):\n",
    "    #     for h in range(4):\n",
    "    #         Layer_name = \"Similarity_Layer\" + str(layer) + \"h\" + str(h)\n",
    "    #         Atten_data[Layer_name] = (\n",
    "    #             model.decoder.layers[layer]\n",
    "    #             .self_attn.attn[0, h]\n",
    "    #             .data[: len(tgt_sent), : len(sent)]\n",
    "    #             .flatten()\n",
    "    #         )\n",
    "    #         base = (\n",
    "    #             alt.Chart(Atten_data)\n",
    "    #             .mark_rect(opacity=1)\n",
    "    #             .properties(height=150, width=150)\n",
    "    #             .encode(\n",
    "    #                 alt.X(\n",
    "    #                     \"W2:N\",\n",
    "    #                     sort=sent,\n",
    "    #                     title=None,\n",
    "    #                 ),\n",
    "    #                 alt.Y(\"W1:N\", sort=sent, title=None),\n",
    "    #                 alt.Color(\n",
    "    #                     Layer_name + \":Q\", scale=alt.Scale(scheme=\"darkred\")\n",
    "    #                 ),\n",
    "    #             )\n",
    "    #         )\n",
    "    #         char.append(base)\n",
    "    #     h_char.append(\n",
    "    #         alt.hconcat(\n",
    "    #             char[0],\n",
    "    #             char[1],\n",
    "    #             char[2],\n",
    "    #             char[3],\n",
    "    #             title=\"Decoder Layer\" + str(layer + 1),\n",
    "    #         )\n",
    "    #     )\n",
    "    #     char = []\n",
    "\n",
    "    # return alt.vconcat(h_char[0], h_char[1], h_char[2])\n",
    "\n",
    "\n",
    "# show_example(example_attention, [model, trans.split()])"
   ]
  },
  {
   "cell_type": "markdown",
   "metadata": {
    "id": "nSseuCcATsqO",
    "lines_to_next_cell": 0
   },
   "source": [
    "# Conclusion\n",
    "\n",
    "> Hopefully this code is useful for future research. Please reach\n",
    "> out if you have any issues.\n",
    "\n",
    "\n",
    "> Cheers,\n",
    "> srush"
   ]
  },
  {
   "cell_type": "markdown",
   "metadata": {},
   "source": []
  }
 ],
 "metadata": {
  "jupytext": {
   "encoding": "# -*- coding: utf-8 -*-",
   "formats": "ipynb,py:percent"
  },
  "kernelspec": {
   "display_name": "Python 3 (ipykernel)",
   "language": "python",
   "name": "python3"
  }
 },
 "nbformat": 4,
 "nbformat_minor": 2
}
